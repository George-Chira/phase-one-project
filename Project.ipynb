{
 "cells": [
  {
   "cell_type": "markdown",
   "metadata": {},
   "source": [
    "# Microsoft Movie Studio Analysis\n"
   ]
  },
  {
   "cell_type": "markdown",
   "metadata": {},
   "source": [
    "## 1. Project Overview\n",
    "### 1.1. Project Goal\n",
    "To provide Microsoft with actionable insights on the types of films that are currently performing well at the box office. This will help guide their strategy in creating successful original video content for their new movie studio.\n",
    "\n",
    "#### Specific Goals:\n",
    "- Identify the top-performing genres at the box office.\n",
    "- Analyze the characteristics of successful films, such as budget, runtime, cast, and release date.\n",
    "- Examine the correlation between movie ratings (from IMDB, Rotten Tomatoes, etc.) and box office success.\n",
    "- Provide three concrete recommendations based on the analysis to inform Microsoft’s movie production strategy.\n",
    "### 1.2. Audience\n",
    "The primary audience for this analysis is the business stakeholders, specifically the head of Microsoft's new movie studio. The insights derived from this analysis will assist them in making informed decisions regarding their movie production strategy.\n",
    "### 1.3. Dataset\n",
    "For this comprehensive analysis, data was sourced from multiple reputable sources in the movie industry to ensure thorough coverage of relevant information. The main datasets used include:\n",
    "\n",
    "- **IMDB**: The Internet Movie Database (IMDB)\n",
    "- **Box Office Mojo**: Box Office Mojo\n",
    "- **Rotten Tomatoes**: Rotten Tomatoes\n",
    "- **TheMovieDB**: TheMovieDB\n",
    "- **The Numbers**: The Numbers\n",
    "\n",
    "The primary datasets were sourced from `im.db`, a SQLite database containing detailed movie information, and `bom.movie_gross.csv.gz`, a compressed CSV file from Box Office Mojo containing box office gross data.\n"
   ]
  },
  {
   "cell_type": "markdown",
   "metadata": {},
   "source": [
    "## 2. Business Understanding\n"
   ]
  },
  {
   "cell_type": "markdown",
   "metadata": {},
   "source": [
    "### 2.1. Stakeholder and Key Business Questions\n",
    "To address the needs of the stakeholders and guide the analysis effectively, the following key business questions were identified:\n",
    "\n",
    "- What genres of movies are performing best at the box office?\n",
    "- What are the characteristics (budget, duration, cast, etc.) of high-performing movies?\n",
    "- How do ratings from different sources (IMDB, Rotten Tomatoes, etc.) correlate with box office success?\n",
    "\n"
   ]
  },
  {
   "cell_type": "markdown",
   "metadata": {},
   "source": [
    "## 3. Data Understanding and Preparation\n",
    "### 3.1. Data Collection\n",
    "For this analysis, data was sourced from multiple reputable sources in the movie industry. The primary datasets were obtained from the following sources:\n",
    "\n",
    "- **IMDB**\n",
    "- **Box Office Mojo**\n",
    "- **Rotten Tomatoes**\n",
    "- **TheMovieDB**\n",
    "- **The Numbers**\n",
    "\n",
    "The main datasets used for this analysis were sourced from `im.db`, a SQLite database containing detailed movie information, and `bom.movie_gross.csv.gz`, a compressed CSV file from Box Office Mojo containing box office gross data.\n"
   ]
  },
  {
   "cell_type": "code",
   "execution_count": 1,
   "metadata": {},
   "outputs": [],
   "source": [
    "#Import necessary libraries\n",
    "import pandas as pd\n",
    "import sqlite3\n",
    "import matplotlib.pyplot as plt\n",
    "import seaborn as sns\n",
    "import gzip"
   ]
  },
  {
   "cell_type": "code",
   "execution_count": 2,
   "metadata": {},
   "outputs": [],
   "source": [
    "# Load datasets"
   ]
  },
  {
   "cell_type": "markdown",
   "metadata": {},
   "source": [
    "### 3.2. Data Cleaning\n",
    "Data cleaning is a crucial step to ensure the integrity and reliability of the analysis. In this phase, the following steps were performed:\n",
    "\n",
    "- **Handle Missing Values**: Missing values were identified and appropriately handled to avoid any biases in the analysis.\n",
    "- **Standardize Data Formats**: Data formats such as dates and currencies were standardized to ensure consistency across the datasets.\n",
    "- **Merge Datasets**: The datasets were merged on common keys, such as movie titles and release dates, to consolidate the information for analysis.\n"
   ]
  },
  {
   "cell_type": "code",
   "execution_count": 3,
   "metadata": {},
   "outputs": [],
   "source": [
    "# Handle missing values\n",
    "\n"
   ]
  },
  {
   "cell_type": "code",
   "execution_count": 4,
   "metadata": {},
   "outputs": [],
   "source": [
    "# Standardize data formats\n",
    "\n"
   ]
  },
  {
   "cell_type": "code",
   "execution_count": 5,
   "metadata": {},
   "outputs": [],
   "source": [
    "# Merge datasets"
   ]
  },
  {
   "cell_type": "code",
   "execution_count": null,
   "metadata": {},
   "outputs": [],
   "source": []
  },
  {
   "cell_type": "markdown",
   "metadata": {},
   "source": [
    "\n",
    "### 3.3. Data Exploration\n",
    "Exploratory data analysis (EDA) was conducted to gain insights into the dataset and identify patterns and trends. This involved:\n",
    "\n",
    "- Initial exploration to understand data distributions and relationships.\n",
    "- Summary statistics and visualizations, such as histograms and box plots, to visualize the data.\n",
    "\n"
   ]
  },
  {
   "cell_type": "code",
   "execution_count": null,
   "metadata": {},
   "outputs": [],
   "source": [
    "# Initial exploration\n",
    "\n"
   ]
  },
  {
   "cell_type": "code",
   "execution_count": null,
   "metadata": {},
   "outputs": [],
   "source": [
    "# Visualizations\n"
   ]
  },
  {
   "cell_type": "code",
   "execution_count": null,
   "metadata": {},
   "outputs": [],
   "source": [
    "# Example: distribution of movie budgets"
   ]
  },
  {
   "cell_type": "markdown",
   "metadata": {},
   "source": [
    "## 4. Data Analysis\n",
    "### 4.1. Exploratory Data Analysis (EDA)\n",
    "EDA was conducted to analyze the dataset and address the key business questions. The analysis included:\n",
    "\n",
    "- Analyzing genre performance at the box office.\n",
    "- Investigating the relationship between movie ratings and box office revenue.\n",
    "- Studying the impact of movie budgets on profitability.\n",
    "\n",
    "\n"
   ]
  },
  {
   "cell_type": "code",
   "execution_count": 6,
   "metadata": {},
   "outputs": [],
   "source": [
    "# Analyze genre performance\n",
    "\n",
    "# Ratings vs Box Office Revenue"
   ]
  },
  {
   "cell_type": "markdown",
   "metadata": {},
   "source": [
    "\n",
    "### 4.2. Feature Engineering\n",
    "Feature engineering involved creating new features based on existing data and transforming categorical data into numerical format where necessary. This step aimed to enhance the predictive power of the analysis.\n",
    "\n"
   ]
  },
  {
   "cell_type": "code",
   "execution_count": 7,
   "metadata": {},
   "outputs": [],
   "source": [
    "# Create new features\n"
   ]
  },
  {
   "cell_type": "markdown",
   "metadata": {},
   "source": [
    "### 4.3. Visualization\n",
    "Visualization played a crucial role in presenting the findings of the analysis in a clear and understandable manner. Visualizations such as bar charts and scatter plots were used to support the analysis and make it accessible to a non-technical audience.\n",
    "\n"
   ]
  },
  {
   "cell_type": "code",
   "execution_count": 8,
   "metadata": {},
   "outputs": [],
   "source": [
    "# Visualizations for findings\n",
    "\n",
    "# Scatter plot for ratings vs revenue\n"
   ]
  },
  {
   "cell_type": "markdown",
   "metadata": {},
   "source": [
    "## 5. Recommendations\n",
    "### 5.1. Business Recommendations\n",
    "Based on the analysis, the following recommendations were made to inform Microsoft’s movie production strategy:\n",
    "\n",
    "- Focus on producing films in genres that consistently perform well at the box office.\n",
    "- Invest in films with moderate budgets to maximize return on investment (ROI).\n",
    "- Consider movie ratings from IMDB and Rotten Tomatoes when greenlighting new projects."
   ]
  },
  {
   "cell_type": "markdown",
   "metadata": {},
   "source": []
  }
 ],
 "metadata": {
  "kernelspec": {
   "display_name": "learn-env",
   "language": "python",
   "name": "python3"
  },
  "language_info": {
   "codemirror_mode": {
    "name": "ipython",
    "version": 3
   },
   "file_extension": ".py",
   "mimetype": "text/x-python",
   "name": "python",
   "nbconvert_exporter": "python",
   "pygments_lexer": "ipython3",
   "version": "3.8.5"
  }
 },
 "nbformat": 4,
 "nbformat_minor": 2
}
