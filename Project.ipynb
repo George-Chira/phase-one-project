{
 "cells": [
  {
   "cell_type": "markdown",
   "metadata": {},
   "source": [
    "# Microsoft Movie Studio Analysis\n"
   ]
  },
  {
   "cell_type": "markdown",
   "metadata": {},
   "source": [
    "## 1. Project Overview\n",
    "### 1.1. Project Goal\n",
    "To provide Microsoft with actionable insights on the types of films that are currently performing well at the box office. This will help guide their strategy in creating successful original video content for their new movie studio.\n",
    "\n",
    "#### Specific Goals:\n",
    "- Identify the top-performing genres at the box office.\n",
    "- Analyze the characteristics of successful films, such as budget, runtime, cast, and release date.\n",
    "- Examine the correlation between movie ratings (from IMDB, Rotten Tomatoes, etc.) and box office success.\n",
    "- Provide three concrete recommendations based on the analysis to inform Microsoft’s movie production strategy.\n",
    "### 1.2. Audience\n",
    "The primary audience for this analysis is the business stakeholders, specifically the head of Microsoft's new movie studio. The insights derived from this analysis will assist them in making informed decisions regarding their movie production strategy.\n",
    "### 1.3. Dataset\n",
    "For this comprehensive analysis, data was sourced from multiple reputable sources in the movie industry to ensure thorough coverage of relevant information. The main datasets used include:\n",
    "\n",
    "- **IMDB**: The Internet Movie Database (IMDB)\n",
    "- **Box Office Mojo**: Box Office Mojo\n",
    "- **Rotten Tomatoes**: Rotten Tomatoes\n",
    "- **TheMovieDB**: TheMovieDB\n",
    "- **The Numbers**: The Numbers\n",
    "\n",
    "The primary datasets were sourced from `im.db`, a SQLite database containing detailed movie information, and `bom.movie_gross.csv.gz`, a compressed CSV file from Box Office Mojo containing box office gross data.\n"
   ]
  },
  {
   "cell_type": "markdown",
   "metadata": {},
   "source": [
    "## 2. Business Understanding\n"
   ]
  },
  {
   "cell_type": "markdown",
   "metadata": {},
   "source": [
    "### 2.1. Stakeholder and Key Business Questions\n",
    "To address the needs of the stakeholders and guide the analysis effectively, the following key business questions were identified:\n",
    "\n",
    "- What genres of movies are performing best at the box office?\n",
    "- What are the characteristics (budget, duration, cast, etc.) of high-performing movies?\n",
    "- How do ratings from different sources (IMDB, Rotten Tomatoes, etc.) correlate with box office success?\n",
    "\n"
   ]
  },
  {
   "cell_type": "markdown",
   "metadata": {},
   "source": [
    "## 3. Data Understanding and Preparation\n",
    "### 3.1. Data Collection\n",
    "For this analysis, data was sourced from multiple reputable sources in the movie industry. The primary datasets were obtained from the following sources:\n",
    "\n",
    "- **IMDB**\n",
    "- **Box Office Mojo**\n",
    "- **Rotten Tomatoes**\n",
    "- **TheMovieDB**\n",
    "- **The Numbers**\n",
    "\n",
    "The main datasets used for this analysis were sourced from `im.db`, a SQLite database containing detailed movie information, and `bom.movie_gross.csv.gz`, a compressed CSV file from Box Office Mojo containing box office gross data.\n"
   ]
  },
  {
   "cell_type": "code",
   "execution_count": null,
   "metadata": {},
   "outputs": [],
   "source": [
    "#Import necessary libraries\n",
    "import pandas as pd\n",
    "import sqlite3\n",
    "import matplotlib.pyplot as plt\n",
    "import seaborn as sns\n",
    "import gzip"
   ]
  }
 ],
 "metadata": {
  "kernelspec": {
   "display_name": "learn-env",
   "language": "python",
   "name": "python3"
  },
  "language_info": {
   "codemirror_mode": {
    "name": "ipython",
    "version": 3
   },
   "file_extension": ".py",
   "mimetype": "text/x-python",
   "name": "python",
   "nbconvert_exporter": "python",
   "pygments_lexer": "ipython3",
   "version": "3.8.5"
  }
 },
 "nbformat": 4,
 "nbformat_minor": 2
}
